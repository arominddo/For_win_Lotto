{
 "cells": [
  {
   "cell_type": "code",
   "execution_count": 1,
   "id": "e67ccac4",
   "metadata": {},
   "outputs": [
    {
     "data": {
      "text/html": [
       "<div>\n",
       "<style scoped>\n",
       "    .dataframe tbody tr th:only-of-type {\n",
       "        vertical-align: middle;\n",
       "    }\n",
       "\n",
       "    .dataframe tbody tr th {\n",
       "        vertical-align: top;\n",
       "    }\n",
       "\n",
       "    .dataframe thead th {\n",
       "        text-align: right;\n",
       "    }\n",
       "</style>\n",
       "<table border=\"1\" class=\"dataframe\">\n",
       "  <thead>\n",
       "    <tr style=\"text-align: right;\">\n",
       "      <th></th>\n",
       "      <th>번호</th>\n",
       "    </tr>\n",
       "  </thead>\n",
       "  <tbody>\n",
       "    <tr>\n",
       "      <th>1</th>\n",
       "      <td>f</td>\n",
       "    </tr>\n",
       "    <tr>\n",
       "      <th>2</th>\n",
       "      <td>c</td>\n",
       "    </tr>\n",
       "    <tr>\n",
       "      <th>2</th>\n",
       "      <td>c</td>\n",
       "    </tr>\n",
       "  </tbody>\n",
       "</table>\n",
       "</div>"
      ],
      "text/plain": [
       "  번호\n",
       "1  f\n",
       "2  c\n",
       "2  c"
      ]
     },
     "execution_count": 1,
     "metadata": {},
     "output_type": "execute_result"
    }
   ],
   "source": [
    "import pandas as pd\n",
    "import seaborn as sns\n",
    "import matplotlib.pyplot as plt\n",
    "\n",
    "a = [\"d\", \"f\", \"c\"]\n",
    "\n",
    "n_samples = 3\n",
    "df = pd.DataFrame(a, columns=[\"번호\"])\n",
    "target = df.sample(n_samples, replace=True, random_state=None)\n",
    "target\n",
    "\n",
    "\n",
    "# # 시각화\n",
    "# target[\"번호\"].value_counts().plot.bar(figsize=(20,10), color=sns.color_palette(\"hls\",len(a)))\n",
    "# plt.show()"
   ]
  },
  {
   "cell_type": "code",
   "execution_count": 2,
   "id": "736ba5bf",
   "metadata": {
    "scrolled": true
   },
   "outputs": [
    {
     "name": "stdout",
     "output_type": "stream",
     "text": [
      "29\n",
      "27\n",
      "41\n",
      "25\n",
      "39\n",
      "41\n",
      "18\n",
      "14\n",
      "[14, 18, 27, 29, 39, 41]\n"
     ]
    }
   ],
   "source": [
    "# 라이브러리 불러오기\n",
    "import random as rd\n",
    "import pandas as pd\n",
    "import numpy as np\n",
    "\n",
    "\n",
    "# 이전 당첨번호 불러오기\n",
    "bf_win_num = pd.read_csv(\"last_win_num.csv\", index_col=\"#\")\n",
    "win_num_arr = np.array(bf_win_num)\n",
    "\n",
    "# 가장 최근 당첨 번호\n",
    "last_win = list(win_num_arr[0])\n",
    "\n",
    "# 당첨 번호 시뮬레이션 함수 제작\n",
    "def get_win():\n",
    "    win = []\n",
    "    while len(win) <= 5 :\n",
    "        while True:\n",
    "            result = rd.randint(1,45)\n",
    "            print(result)\n",
    "            if (result not in last_win) & (result not in win):\n",
    "                break\n",
    "        win.append(result)\n",
    "    win.sort()\n",
    "    return win\n",
    "\n",
    "# 당첨 번호 시뮬레이션\n",
    "while True:\n",
    "    win = get_win()\n",
    "    t = 0\n",
    "    for w in range(len(win_num_arr)) :\n",
    "        if list(win_num_arr[w]) == win :\n",
    "            break\n",
    "        t += 1\n",
    "    if t == len(win_num_arr):\n",
    "        break\n",
    "\n",
    "# 당첨 예상 번호 확인\n",
    "print(win)"
   ]
  },
  {
   "cell_type": "code",
   "execution_count": 89,
   "id": "61303c94",
   "metadata": {},
   "outputs": [
    {
     "data": {
      "text/plain": [
       "0"
      ]
     },
     "execution_count": 89,
     "metadata": {},
     "output_type": "execute_result"
    }
   ],
   "source": [
    "# a = np.array(bf_win_num)\n",
    "b = bf_win_num\n",
    "re = {}\n",
    "for i in range(6):\n",
    "    n = b.loc[b[str(i+1)]==2].shape[0]\n",
    "    re = \n",
    "n1"
   ]
  },
  {
   "cell_type": "code",
   "execution_count": 85,
   "id": "99ac2237",
   "metadata": {},
   "outputs": [
    {
     "data": {
      "text/plain": [
       "29"
      ]
     },
     "execution_count": 85,
     "metadata": {},
     "output_type": "execute_result"
    }
   ],
   "source": [
    "b.loc[b[str(2)] ==20].shape[0]"
   ]
  },
  {
   "cell_type": "code",
   "execution_count": 105,
   "id": "5107da97",
   "metadata": {},
   "outputs": [
    {
     "data": {
      "text/plain": [
       "1"
      ]
     },
     "execution_count": 105,
     "metadata": {},
     "output_type": "execute_result"
    }
   ],
   "source": [
    "numm = list(range(1,46))\n",
    "numm1 = rd.choices(numm, [])\n",
    "numm1"
   ]
  }
 ],
 "metadata": {
  "kernelspec": {
   "display_name": "Python 3",
   "language": "python",
   "name": "python3"
  },
  "language_info": {
   "codemirror_mode": {
    "name": "ipython",
    "version": 3
   },
   "file_extension": ".py",
   "mimetype": "text/x-python",
   "name": "python",
   "nbconvert_exporter": "python",
   "pygments_lexer": "ipython3",
   "version": "3.8.8"
  }
 },
 "nbformat": 4,
 "nbformat_minor": 5
}
