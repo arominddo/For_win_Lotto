{
 "cells": [
  {
   "cell_type": "markdown",
   "id": "7d316e20",
   "metadata": {},
   "source": [
    "# Lotto 1등을 향하여!"
   ]
  },
  {
   "cell_type": "markdown",
   "id": "8863171d",
   "metadata": {},
   "source": [
    "---\n",
    "### 1. 데이터 가공"
   ]
  },
  {
   "cell_type": "markdown",
   "id": "263710cf",
   "metadata": {},
   "source": [
    "#### 1) 이전 당첨 번호 데이터화"
   ]
  },
  {
   "cell_type": "code",
   "execution_count": 1,
   "id": "736ba5bf",
   "metadata": {
    "scrolled": true
   },
   "outputs": [],
   "source": [
    "# 라이브러리 불러오기\n",
    "import random as rd\n",
    "import pandas as pd\n",
    "import numpy as np\n",
    "\n",
    "\n",
    "# 이전 당첨번호 불러오기\n",
    "bf_win_num = pd.read_csv(\"last_win_num.csv\", index_col=\"#\")\n",
    "win_num_arr = np.array(bf_win_num)\n",
    "\n",
    "# 가장 최근 당첨 번호\n",
    "last_win = list(win_num_arr[0])\n"
   ]
  },
  {
   "cell_type": "markdown",
   "id": "b61a5b45",
   "metadata": {},
   "source": [
    "#### 2) 이전 당첨 번호 출현 횟수"
   ]
  },
  {
   "cell_type": "code",
   "execution_count": 2,
   "id": "992097e2",
   "metadata": {
    "scrolled": true
   },
   "outputs": [],
   "source": [
    "# 빈도수 카운트 데이터 프레임 제작\n",
    "wnc = pd.DataFrame()\n",
    "\n",
    "# 나온 숫자 및 횟수 저장\n",
    "for n in range(1,7):\n",
    "    ind = bf_win_num[str(n)].value_counts().index\n",
    "    va = bf_win_num[str(n)].value_counts().values\n",
    "    for i in range(ind.shape[0]):\n",
    "        wnc.loc[ind[i], n] = va[i]\n",
    "        \n",
    "# 행을 번호 순서대로 재정렬\n",
    "ind_wnc = list(wnc.index.values)\n",
    "ind_wnc_sor = sorted(ind_wnc)\n",
    "wnc = wnc.reindex(index=ind_wnc_sor)\n",
    "\n",
    "# 결측치 0으로 변환\n",
    "wnc.fillna(0, inplace=True)\n",
    "\n",
    "# 각 번호 별 합, 빈도수 가져오기\n",
    "wnc[\"sum\"] = wnc[1]+wnc[2]+wnc[3]+wnc[4]+wnc[5]+wnc[6]\n",
    "wnc[\"mean_1\"] = wnc[\"sum\"] / (wnc[\"sum\"].sum())   # 회차 별 번호 출현 횟수 / 총 추첨 횟수\n",
    "wnc[\"mean_t\"] = wnc[\"sum\"] / (wnc[\"sum\"].sum()/6) # 회차 별 번호 출현 횟수 / 총 회차 횟수\n",
    "\n",
    "# 확인\n",
    "# wnc  # 필요할 때만 주석 제거 후 실행"
   ]
  },
  {
   "cell_type": "markdown",
   "id": "31210cd8",
   "metadata": {},
   "source": [
    "---\n",
    "### 2. 뽑기 방법 만들기"
   ]
  },
  {
   "cell_type": "markdown",
   "id": "7642abb6",
   "metadata": {},
   "source": [
    "#### 1) 무작위 숫자"
   ]
  },
  {
   "cell_type": "code",
   "execution_count": 3,
   "id": "809e38d7",
   "metadata": {},
   "outputs": [],
   "source": [
    "# 당첨 번호 시뮬레이션 함수 제작\n",
    "def get_win():\n",
    "    win = []\n",
    "    while len(win) <= 5 :\n",
    "        while True:\n",
    "            result = rd.randint(1,45)\n",
    "#             print(result)\n",
    "            if (result not in last_win) & (result not in win):\n",
    "                break\n",
    "        win.append(result)\n",
    "    win.sort()\n",
    "    return win"
   ]
  },
  {
   "cell_type": "markdown",
   "id": "ae6d9ff9",
   "metadata": {},
   "source": [
    "#### 2) 자주 나오던 숫자 자주 나오게 하기(도합 1 가중치)"
   ]
  },
  {
   "cell_type": "code",
   "execution_count": 4,
   "id": "69b262a4",
   "metadata": {},
   "outputs": [],
   "source": [
    "# 많이 나온 숫자를 많이 자주 나오게 하기\n",
    "def win_pre_1():\n",
    "    num_pre = np.random.choice(ind_wnc_sor, size=6, \n",
    "                               p=list(wnc[\"mean_1\"]), replace=False)\n",
    "    num_pre.sort()\n",
    "    result = list(pd.DataFrame(num_pre)[0])\n",
    "    return result"
   ]
  },
  {
   "cell_type": "markdown",
   "id": "44867f95",
   "metadata": {},
   "source": [
    "#### 3) 자주 나오던 숫자 자주 나오게 하기(상대 가중치)"
   ]
  },
  {
   "cell_type": "code",
   "execution_count": 5,
   "id": "b66100a6",
   "metadata": {
    "scrolled": true
   },
   "outputs": [],
   "source": [
    "# 많이 나온 숫자를 많이 나오게 하기 2\n",
    "def win_pre_t():\n",
    "    while True :\n",
    "        pre = rd.choices(ind_wnc_sor, k=6,weights=list(wnc[\"mean_t\"]))\n",
    "        pre.sort()\n",
    "        temp = set(pre)\n",
    "        if len(temp) == 6 :\n",
    "            break\n",
    "    result = list(pd.DataFrame(pre)[0])\n",
    "    return result"
   ]
  },
  {
   "cell_type": "markdown",
   "id": "37413fab",
   "metadata": {},
   "source": [
    "#### 4) 아직 많이 안나온 숫자 자주 나오게 하기"
   ]
  },
  {
   "cell_type": "markdown",
   "id": "df12294d",
   "metadata": {},
   "source": [
    "---\n",
    "### 3. 시뮬레이션 옵션 만들기\n"
   ]
  },
  {
   "cell_type": "markdown",
   "id": "ea496577",
   "metadata": {},
   "source": [
    "#### 1) 이전 당첨 번호 조합 겹치지 않게"
   ]
  },
  {
   "cell_type": "code",
   "execution_count": 6,
   "id": "39215949",
   "metadata": {},
   "outputs": [],
   "source": [
    "# 당첨 번호 시뮬레이션\n",
    "def go_lotto(how) :\n",
    "    while True:\n",
    "        win = how\n",
    "        t_go = 0\n",
    "        for w in range(len(win_num_arr)) :\n",
    "            if list(win_num_arr[w]) == win :\n",
    "                break\n",
    "            t_go += 1\n",
    "        if t_go == len(win_num_arr):\n",
    "            break\n",
    "    return win"
   ]
  },
  {
   "cell_type": "markdown",
   "id": "24b0f700",
   "metadata": {},
   "source": [
    "#### 2) 직전 회차 번호 겹치지 않게"
   ]
  },
  {
   "cell_type": "code",
   "execution_count": 7,
   "id": "a3aa2f04",
   "metadata": {},
   "outputs": [],
   "source": [
    "def no_last(how):\n",
    "    while True:\n",
    "        win = how\n",
    "        t_no = 0\n",
    "        for w in last_win :\n",
    "            if w in win:\n",
    "                t_no += 1\n",
    "        if t_no == 0:\n",
    "            break\n",
    "    return win"
   ]
  },
  {
   "cell_type": "markdown",
   "id": "e09be1b3",
   "metadata": {},
   "source": [
    "---\n",
    "### 4. 시뮬레이션 돌리기\n",
    "\n",
    "- 방법 : 시뮬레이션 옵션( 추첨방법( ) )"
   ]
  },
  {
   "cell_type": "markdown",
   "id": "e169bb9f",
   "metadata": {},
   "source": [
    "#### 1) 시뮬레이션 옵션 정리"
   ]
  },
  {
   "cell_type": "markdown",
   "id": "1a65a53d",
   "metadata": {},
   "source": [
    "- go_lotto() : 이전 당첨 조합과 미일치 옵션"
   ]
  },
  {
   "cell_type": "markdown",
   "id": "3acaac30",
   "metadata": {},
   "source": [
    "#### 1) 시뮬레이션 옵션 정리"
   ]
  },
  {
   "cell_type": "markdown",
   "id": "b796e63e",
   "metadata": {},
   "source": [
    "- get_win() : 무작위 추첨(ver.직전 회차 번호 미포함)\n",
    "- win_pre_1() : 자주 나온 번호 자주 나오게 하기(ver.확률 합 1)\n",
    "- win_pre_t() : 자주 나온 버놓 자주 나오게 하기(ver.상대 출현률)"
   ]
  },
  {
   "cell_type": "code",
   "execution_count": 8,
   "id": "3b8efe0c",
   "metadata": {},
   "outputs": [
    {
     "data": {
      "text/plain": [
       "304"
      ]
     },
     "execution_count": 8,
     "metadata": {},
     "output_type": "execute_result"
    }
   ],
   "source": [
    "# 연결 완료\n",
    "rd.randint(1,1000)"
   ]
  },
  {
   "cell_type": "code",
   "execution_count": null,
   "id": "ae3c64cb",
   "metadata": {},
   "outputs": [],
   "source": [
    "no_last(win_pre_1())"
   ]
  },
  {
   "cell_type": "code",
   "execution_count": null,
   "id": "8077ecc8",
   "metadata": {},
   "outputs": [],
   "source": []
  }
 ],
 "metadata": {
  "kernelspec": {
   "display_name": "Python 3 (ipykernel)",
   "language": "python",
   "name": "python3"
  },
  "language_info": {
   "codemirror_mode": {
    "name": "ipython",
    "version": 3
   },
   "file_extension": ".py",
   "mimetype": "text/x-python",
   "name": "python",
   "nbconvert_exporter": "python",
   "pygments_lexer": "ipython3",
   "version": "3.8.8"
  }
 },
 "nbformat": 4,
 "nbformat_minor": 5
}
