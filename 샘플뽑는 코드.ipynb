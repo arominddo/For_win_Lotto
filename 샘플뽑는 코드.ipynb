{
 "cells": [
  {
   "cell_type": "code",
   "execution_count": null,
   "id": "db11394b",
   "metadata": {},
   "outputs": [],
   "source": [
    "# 샘플 뽑는 코드\n",
    "import pandas as pd\n",
    "import seaborn as sns\n",
    "import matplotlib.pyplot as plt\n",
    "\n",
    "a = [\"d\", \"f\", \"c\"]\n",
    "\n",
    "n_samples = 3\n",
    "df = pd.DataFrame(a, columns=[\"번호\"])\n",
    "target = df.sample(n_samples, replace=True, random_state=None)\n",
    "target\n",
    "\n",
    "\n",
    "# # 시각화\n",
    "# target[\"번호\"].value_counts().plot.bar(figsize=(20,10), color=sns.color_palette(\"hls\",len(a)))\n",
    "# plt.show()"
   ]
  }
 ],
 "metadata": {
  "kernelspec": {
   "display_name": "Python 3 (ipykernel)",
   "language": "python",
   "name": "python3"
  },
  "language_info": {
   "codemirror_mode": {
    "name": "ipython",
    "version": 3
   },
   "file_extension": ".py",
   "mimetype": "text/x-python",
   "name": "python",
   "nbconvert_exporter": "python",
   "pygments_lexer": "ipython3",
   "version": "3.8.8"
  }
 },
 "nbformat": 4,
 "nbformat_minor": 5
}
